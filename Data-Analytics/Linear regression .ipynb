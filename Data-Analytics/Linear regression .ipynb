{
 "cells": [
  {
   "cell_type": "code",
   "execution_count": 1,
   "metadata": {
    "scrolled": true
   },
   "outputs": [
    {
     "name": "stderr",
     "output_type": "stream",
     "text": [
      "C:\\Users\\Yunfei Cai\\Anaconda3\\lib\\site-packages\\sklearn\\ensemble\\weight_boosting.py:29: DeprecationWarning: numpy.core.umath_tests is an internal NumPy module and should not be imported. It will be removed in a future NumPy release.\n",
      "  from numpy.core.umath_tests import inner1d\n"
     ]
    }
   ],
   "source": [
    "import numpy as np\n",
    "import pandas as pd\n",
    "import matplotlib.pyplot as plt\n",
    "import seaborn as sns\n",
    "import warnings\n",
    "from sklearn.base import BaseEstimator, TransformerMixin, RegressorMixin, clone\n",
    "from sklearn.preprocessing import LabelEncoder\n",
    "from sklearn.preprocessing import RobustScaler, StandardScaler\n",
    "from sklearn.metrics import mean_squared_error\n",
    "from sklearn.pipeline import Pipeline, make_pipeline\n",
    "from scipy.stats import skew\n",
    "from sklearn.decomposition import PCA, KernelPCA\n",
    "from sklearn.preprocessing import Imputer\n",
    "from sklearn.model_selection import cross_val_score, GridSearchCV, KFold\n",
    "from sklearn.linear_model import LinearRegression\n",
    "from sklearn.linear_model import Ridge\n",
    "from sklearn.linear_model import Lasso\n",
    "from sklearn.ensemble import RandomForestRegressor, GradientBoostingRegressor, ExtraTreesRegressor\n",
    "from sklearn.svm import SVR, LinearSVR\n",
    "from sklearn.linear_model import ElasticNet, SGDRegressor, BayesianRidge\n",
    "from sklearn.kernel_ridge import KernelRidge\n",
    "#from xgboost import XGBRegressor\n",
    "warnings.filterwarnings('ignore')\n",
    "from sklearn.model_selection import train_test_split\n",
    "import datetime\n",
    "\n",
    "train = pd.read_csv('C:/Users/Yunfei Cai/Desktop/Porsche data.csv')\n",
    "#初始設定----------------------------------------------------------------------"
   ]
  },
  {
   "cell_type": "code",
   "execution_count": 2,
   "metadata": {},
   "outputs": [],
   "source": [
    "train=train.drop([\"Vin\"],axis=1)\n",
    "\n",
    "\n",
    "train_y= train[\"Price\"]\n",
    "train_x= train.drop([\"Price\"],axis=1)\n",
    "\n",
    "\n",
    "train_x=pd.get_dummies(train_x)\n",
    "\n",
    "\n",
    "\n",
    "test_x=train_x.sample(n=500,random_state=0)\n",
    "train=train_x.drop(train_x.sample(n=500,random_state=0).index,axis=0)\n",
    "\n",
    "test_y=train_y.sample(n=500,random_state=0)\n",
    "train=train_y.drop(train_y.sample(n=500,random_state=0).index,axis=0)\n",
    "\n",
    "\n",
    "train_x, val_x, train_y, val_y = train_test_split(train_x, train_y, test_size=0.3)\n",
    "\n",
    "#training set\n",
    "train_x=train_x.values\n",
    "train_y=train_y.values\n",
    "train_y=train_y.reshape(-1,1)\n",
    "val_x=val_x.values\n",
    "val_y=val_y.values\n",
    "val_y=val_y.reshape(-1,1)\n",
    "test_x=test_x.values\n",
    "test_y=test_y.values\n",
    "test_y=test_y.reshape(-1,1)\n",
    "\n",
    "\n",
    "#Standardization\n",
    "scaler = StandardScaler()\n",
    "scaler.fit(train_x)\n",
    "train_x = scaler.transform(train_x)\n",
    "val_x = scaler.transform(val_x)\n",
    "test_x = scaler.transform(test_x)\n",
    "\n",
    "\n",
    "\n",
    "#PCA---------------------------------------------------------------------------\n",
    "\n",
    "pca_num=0\n",
    "delta=0.1\n",
    "\n",
    "pca=PCA(n_components = 0.99)\n",
    "train_x=pca.fit_transform(train_x)\n",
    "val_x=pca.transform(val_x)\n",
    "test_x=pca.transform(test_x)\n",
    "dimention=train_x.shape[1]\n"
   ]
  },
  {
   "cell_type": "code",
   "execution_count": 3,
   "metadata": {},
   "outputs": [
    {
     "name": "stdout",
     "output_type": "stream",
     "text": [
      "294416.96046233847\n",
      "103617.36686330759\n",
      "6646.473453590433\n",
      "272334.407470094\n",
      "60227.394082957566\n",
      "173634.48264062832\n",
      "297865.30401894095\n",
      "40384.44475809456\n",
      "20540.878383103645\n",
      "43259.656372056306\n",
      "40048.850730666185\n",
      "165077.74684877694\n",
      "9341.133756854542\n",
      "5430.411975426269\n",
      "73669.02001963063\n",
      "5533.301520808241\n",
      "44430.22163565501\n",
      "26759.965844101233\n",
      "105730.280322478\n",
      "62375.503781471256\n",
      "102683.18923916407\n",
      "71520.843059494\n",
      "46398.07292484948\n",
      "146609.80310602856\n",
      "7851.216065302026\n",
      "344481.04572085885\n",
      "33343.24831927705\n",
      "294103.7400767351\n",
      "84138.2364480575\n",
      "19969.378114973664\n",
      "cross—validation mean rmse= 100080.75260052402\n",
      "the processing time is : 14 seconds\n",
      "finish, plot the scatter figure\n"
     ]
    },
    {
     "data": {
      "text/plain": [
       "<Figure size 432x288 with 0 Axes>"
      ]
     },
     "metadata": {},
     "output_type": "display_data"
    },
    {
     "data": {
      "image/png": "[encoded data removed]",
      "text/plain": [
       "<Figure size 432x288 with 1 Axes>"
      ]
     },
     "metadata": {
      "needs_background": "light"
     },
     "output_type": "display_data"
    }
   ],
   "source": [
    "#Linear Regression\n",
    "starttime = datetime.datetime.now()\n",
    "from sklearn import linear_model\n",
    "K=30\n",
    "kf = KFold(n_splits=K)\n",
    "LR = linear_model.LinearRegression()\n",
    "i=0\n",
    "rmse=0\n",
    "\n",
    "rmse_his=[]\n",
    "for train_index, val_index in kf.split(train_x):\n",
    "    LR.fit(train_x[train_index],train_y[train_index])\n",
    "    y_LR = LR.predict (train_x[val_index])\n",
    "    \n",
    "    mse=np. mean( y_LR - train_y[val_index]) ** 2\n",
    "    rmse=np.sqrt(mse)\n",
    "    rmse_his=np.append(rmse_his, rmse)\n",
    "    print(rmse)\n",
    "    \n",
    "print(\"cross—validation mean rmse=\",np.mean(rmse_his))\n",
    "endtime = datetime.datetime.now()\n",
    "print (\"the processing time is :\",(endtime - starttime).seconds,\"seconds\")\n",
    "\n",
    "print(\"finish, plot the scatter figure\")\n",
    "plt.figure(3)\n",
    "fig, ax = plt.subplots()\n",
    "ax.scatter(y_LR,  train_y[val_index])\n",
    "\n",
    "ax.plot( [1,250000], [1,250000], 'k--', lw=3)\n",
    "ax.set_xlabel('Measured')\n",
    "ax.set_ylabel('Predicted')\n",
    "\n",
    "plt.show()   \n",
    "plt.pause(0.1)\n",
    "\n"
   ]
  },
  {
   "cell_type": "code",
   "execution_count": 4,
   "metadata": {},
   "outputs": [
    {
     "name": "stdout",
     "output_type": "stream",
     "text": [
      "testing set rmse= 12006.52114131276\n",
      "the processing time is : 0 seconds\n",
      "finish, plot the scatter figure\n"
     ]
    },
    {
     "data": {
      "text/plain": [
       "<Figure size 432x288 with 0 Axes>"
      ]
     },
     "metadata": {},
     "output_type": "display_data"
    },
    {
     "data": {
      "image/png": "[encoded data removed]",
      "text/plain": [
       "<Figure size 432x288 with 1 Axes>"
      ]
     },
     "metadata": {
      "needs_background": "light"
     },
     "output_type": "display_data"
    }
   ],
   "source": [
    "starttime = datetime.datetime.now()\n",
    "LR.fit(train_x,train_y)\n",
    "y_LR0 = LR.predict (test_x)\n",
    "mse0=np. mean(( y_LR0 - test_y) ** 2)\n",
    "rmse0= np.sqrt(mse0)\n",
    "print(\"testing set rmse=\",rmse0)\n",
    "endtime = datetime.datetime.now()\n",
    "print (\"the processing time is :\",(endtime - starttime).seconds,\"seconds\")\n",
    "\n",
    "print(\"finish, plot the scatter figure\")\n",
    "plt.figure(3)\n",
    "fig, ax = plt.subplots()\n",
    "ax.scatter(y_LR0,  test_y)\n",
    "\n",
    "ax.plot([test_y.min(), test_y.max()], [test_y.min(), test_y.max()], 'k--', lw=3)\n",
    "ax.set_xlabel('Measured')\n",
    "ax.set_ylabel('Predicted')\n",
    "\n",
    "\n",
    "plt.show()   \n",
    "plt.pause(0.1)"
   ]
  },
  {
   "cell_type": "code",
   "execution_count": null,
   "metadata": {},
   "outputs": [],
   "source": []
  }
 ],
 "metadata": {
  "kernelspec": {
   "display_name": "Python 3",
   "language": "python",
   "name": "python3"
  },
  "language_info": {
   "codemirror_mode": {
    "name": "ipython",
    "version": 3
   },
   "file_extension": ".py",
   "mimetype": "text/x-python",
   "name": "python",
   "nbconvert_exporter": "python",
   "pygments_lexer": "ipython3",
   "version": "3.7.0"
  }
 },
 "nbformat": 4,
 "nbformat_minor": 2
}
